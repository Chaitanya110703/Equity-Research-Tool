{
 "cells": [
  {
   "cell_type": "markdown",
   "id": "6d251683-ede5-4dd0-8ccf-276b156f8dfb",
   "metadata": {},
   "source": [
    "## Text Loader"
   ]
  },
  {
   "cell_type": "markdown",
   "id": "7396082e-de66-409b-afdc-3facafb35fbc",
   "metadata": {},
   "source": [
    "### Unstructured Library "
   ]
  },
  {
   "cell_type": "markdown",
   "id": "1aaefbc6-641b-4007-9405-f29279eeb653",
   "metadata": {},
   "source": [
    "The unstructured library provides open-source components for ingesting and pre-processing images and text documents, such as PDFs, HTML, Word docs, and many more. The use cases of unstructured revolve around streamlining and optimizing the data processing workflow for LLMs. unstructured modular functions and connectors form a cohesive system that simplifies data ingestion and pre-processing, making it adaptable to different platforms and efficient in transforming unstructured data into structured outputs."
   ]
  },
  {
   "cell_type": "code",
   "execution_count": 1,
   "id": "33b163c5-49ef-4022-8e91-22be79338751",
   "metadata": {},
   "outputs": [],
   "source": [
    "from langchain_community.document_loaders import UnstructuredURLLoader"
   ]
  },
  {
   "cell_type": "code",
   "execution_count": 2,
   "id": "d78a8d01-18b8-4451-8c10-13152f4da900",
   "metadata": {},
   "outputs": [],
   "source": [
    "urls = [\n",
    "    \"https://www.moneycontrol.com/news/telecom/vodafone-idea-begins-next-phase-of-5g-rollout-across-23-cities-13205968.html\",\n",
    "    \"https://www.moneycontrol.com/news/business/startup/former-cognizant-ceo-founded-pe-firm-recognize-closes-second-fund-at-1-7-bn-13204805.html\"\n",
    "]"
   ]
  },
  {
   "cell_type": "code",
   "execution_count": 3,
   "id": "4bdadc51-da76-4e5d-a9b4-ba7d1b1f5198",
   "metadata": {},
   "outputs": [],
   "source": [
    "loader = UnstructuredURLLoader(urls)"
   ]
  },
  {
   "cell_type": "code",
   "execution_count": 4,
   "id": "ee794871-fbe9-4288-99e8-afc17d9caf61",
   "metadata": {},
   "outputs": [],
   "source": [
    "data = loader.load()"
   ]
  },
  {
   "cell_type": "code",
   "execution_count": 5,
   "id": "e9ea6528-8489-440f-b068-88e96a4db980",
   "metadata": {},
   "outputs": [
    {
     "data": {
      "text/plain": [
       "2"
      ]
     },
     "execution_count": 5,
     "metadata": {},
     "output_type": "execute_result"
    }
   ],
   "source": [
    "len(data)"
   ]
  },
  {
   "cell_type": "code",
   "execution_count": 6,
   "id": "65c36091-8b3a-42b0-90a9-816219081a2c",
   "metadata": {
    "scrolled": true
   },
   "outputs": [
    {
     "data": {
      "text/plain": [
       "Document(metadata={'source': 'https://www.moneycontrol.com/news/telecom/vodafone-idea-begins-next-phase-of-5g-rollout-across-23-cities-13205968.html'}, page_content='English\\n\\nHindi\\n\\nGujarati\\n\\nSpecials\\n\\nHello, Login\\n\\nHello, Login\\n\\nLog-inor Sign-Up\\n\\nMy Account\\n\\nMy Profile\\n\\nMy Portfolio\\n\\nMy Watchlist\\n\\nMy Alerts\\n\\nMy Messages\\n\\nPrice Alerts\\n\\nMy Profile\\n\\nMy PRO\\n\\nMy Portfolio\\n\\nMy Watchlist\\n\\nMy Alerts\\n\\nMy Messages\\n\\nPrice Alerts\\n\\nLogout\\n\\nLoans up to ₹50 LAKHS\\n\\nFixed Deposits\\n\\nCredit CardsLifetime Free\\n\\nCredit Score\\n\\nChat with Us\\n\\nDownload App\\n\\nFollow us on:\\n\\nNetwork 18\\n\\nGo Ad-Free\\n\\nMy Alerts\\n\\n>->MC_ENG_DESKTOP/MC_ENG_NEWS/MC_ENG_NEWS_AS/MC_ENG_ROS_NWS_AS_ATF_728\\n\\nMoneycontrol\\n\\nGo PRO NowPRO\\n\\nMoneycontrol PRO\\n\\nAdvertisement\\n\\nRemove Ad\\n\\nBusiness\\n\\nMarkets\\n\\nStocks\\n\\nEconomy\\n\\nCompanies\\n\\nTrends\\n\\nIPO\\n\\nOpinion\\n\\nEV Special\\n\\nSubscription Products\\n\\nprofile\\n\\nAmbareesh Baliga\\n\\nprofile\\n\\nCK Narayan\\n\\nprofile\\n\\nT Gnanasekar\\n\\nprofile\\n\\nPower Your Trade\\n\\nprofile\\n\\nCurrencies with Mecklai Financial\\n\\nprofile\\n\\nStock Reports\\n\\nHomeNewstelecomVodafone Idea begins next phase of 5G rollout across 23 cities\\n\\nVodafone Idea begins next phase of 5G rollout across 23 cities\\n\\nUsers with 5G-enabled devices in the new cities will get access to the network as it becomes operational. Vi is offering unlimited 5G data on plans starting from ₹299.\\n\\nDanish Khan\\n\\nJune 30, 2025 / 18:38 IST\\n\\nVodafone Idea begins next phase of 5G rollout across 23 cities\\n\\nVodafone Idea begins next phase of 5G rollout across 23 cities\\n\\nVodafone Idea (Vi) has started its next phase of 5G rollout with network deployment underway in 23 cities, including Ahmedabad, Agra, Indore, Jaipur, Kolkata, Lucknow, Nagpur, Pune, Surat and Vizag. The expansion covers all of Vi’s priority circles and will be carried out in phases.\\n\\nThe move follows recent 5G launches in Mumbai, Delhi-NCR, Bengaluru, Chandigarh and Patna. Vi has acquired 5G spectrum in 17 circles. Users with 5G-enabled devices in the new cities will get access to the network as it becomes operational. Vi is offering unlimited 5G data on plans starting from ₹299.\\n\\nStory continues below Advertisement\\n\\nRemove Ad\\n\\nAccording to the company, over 70% of eligible users in current 5G zones have accessed the service.\\n\\nVi is using AI-powered Self-Organising Networks (SON) to manage its infrastructure and has partnered with Nokia, Ericsson and Samsung for integration of its 4G and 5G networks.\\n\\n“Our 5G rollout is progressing in a phased manner,” said Jagbir Singh, Chief Technology Officer, Vi. “We are also strengthening our 4G network.”\\n\\nAlongside the 5G rollout, Vi is expanding its 4G footprint. Since April 2024, the company has deployed 4G on the 900 MHz band at 65,000 sites and added over 56,000 sites on the 1800 MHz, 2100 MHz and TDD bands. These upgrades have increased 4G data capacity by 35% and boosted 4G speeds by 26%.\\n\\nVi’s 4G network now covers 84% of the population, up from 77% in March 2024.\\n\\nDanish Khan\\n\\nDanish Khan is the editor of Technology and Telecom. He was previously with the Economic Times and has tracked the sector for 14 years.\\n\\nfirst published: Jun 30, 2025 06:38 pm\\n\\nDiscover the latest Business News, Budget 2025 News, Sensex, and Nifty updates. Obtain Personal Finance insights, tax queries, and expert opinions on Moneycontrol or download the Moneycontrol App to stay updated!\\n\\nAdvertisement\\n\\nRemove Ad\\n\\nAdvisory Alert:\\n\\nmoneycontrol\\n\\nFollow Us On:\\n\\nFacebook\\n\\ntwitter\\n\\ninstagram\\n\\nlinkedin\\n\\ntelegram\\n\\nyoutube\\n\\nStocks: A B C D E F G H I J K L M N O P Q R S T U V W X Y Z Others\\n\\nTrending Topics\\n\\nSensex Live HDB Financial Services Share Price Indus Water Treaty Mumbai Rains One Big Beautiful Bill Dalai Lama PM Modi Sambhv Steel Share Price India US Trade Deal Mamata Banerjee\\n\\nNews\\n\\nBusiness Markets Stocks India News City News Economy Mutual Funds Personal Finance IPO News Startups\\n\\nMarkets\\n\\nHome Currencies Commodities Pre-Market IPO Global Market Bonds\\n\\nPersonal Finance\\n\\nHome Loans up to 50 Lakhs Credit Cards Lifetime Free Finance TrackerNew Fixed Deposits Fixed Deposit Comparison Fixed Income\\n\\nMutual Funds\\n\\nHome MC 30 Top Ranked Funds ETFs Mutual Fund Screener\\n\\nTools\\n\\nIncome Tax Calculator EMI Calculator Retirement Planning Gratuity Calculator\\n\\nCommunity\\n\\nStock Markets\\n\\nNetwork 18 Sites\\n\\nNews18 Firstpost CNBC TV18 News18 Hindi Cricketnext Overdrive\\n\\nQuick Links\\n\\nAbout Us Contact Us Advisory Alert Advertise with Us SupportDisclaimer Privacy Policy Cookie Policy Terms & Conditions Financial Terms (Glossary) Sitemap Investors\\n\\nDownload MC Apps:\\n\\n\\n\\n\\n\\n\\n\\nCopyright © Network18 Media & Investments Limited. All rights reserved. Reproduction of news articles, photos, videos or any other content in whole or in part in any form or medium without express written permission of moneycontrol.com is prohibited.\\n\\nYou got 30 Day’s Trial of\\n\\nMoneycontrol Pro\\n\\nMoneycontrol Pro\\n\\nGrab it Now\\n\\nAd-Free Experience\\n\\nTop Articles from Financial Times\\n\\nTop Articles from Financial Times\\n\\nActionable Insights\\n\\nMC Research\\n\\nEconomic Calendar\\n\\n& Many More\\n\\n& Many More\\n\\nYou are already a Moneycontrol Pro user.\\n\\nBe Prepared with PRO\\n\\nBe Prepared with PRO\\n\\nManjiri Patil')"
      ]
     },
     "execution_count": 6,
     "metadata": {},
     "output_type": "execute_result"
    }
   ],
   "source": [
    "data[0]"
   ]
  },
  {
   "cell_type": "markdown",
   "id": "99e555a9-d375-4601-b0fe-33c7c260f07d",
   "metadata": {},
   "source": [
    "## Text Splitter"
   ]
  },
  {
   "cell_type": "markdown",
   "id": "074e2c26-785e-4a02-aff1-bfffa917d065",
   "metadata": {},
   "source": [
    "This splits based on a given character sequence, which defaults to \"\\n\\n\". Chunk length is measured by number of characters."
   ]
  },
  {
   "cell_type": "code",
   "execution_count": 7,
   "id": "093cdc95-6fed-460e-a9b1-3f4d982c49d8",
   "metadata": {},
   "outputs": [],
   "source": [
    "from langchain_text_splitters import CharacterTextSplitter"
   ]
  },
  {
   "cell_type": "code",
   "execution_count": 9,
   "id": "593924de-c76c-4239-be7f-359f9ebe724e",
   "metadata": {},
   "outputs": [],
   "source": [
    "text = \"\"\"Interstellar is a 2014 epic science fiction film co-written, directed, and produced by Christopher Nolan. \n",
    "It stars Matthew McConaughey, Anne Hathaway, Jessica Chastain, Bill Irwin, Ellen Burstyn, Matt Damon, and Michael Caine. \n",
    "Set in a dystopian future where humanity is embroiled in a catastrophic blight and famine, the film follows a group of astronauts who travel through a wormhole near Saturn in search of a new home for humankind.\n",
    "\n",
    "Brothers Christopher and Jonathan Nolan wrote the screenplay, which had its origins in a script Jonathan developed in 2007 and was originally set to be directed by Steven Spielberg. \n",
    "Kip Thorne, a Caltech theoretical physicist and 2017 Nobel laureate in Physics,[4] was an executive producer, acted as a scientific consultant, and wrote a tie-in book, The Science of Interstellar. \n",
    "Cinematographer Hoyte van Hoytema shot it on 35 mm movie film in the Panavision anamorphic format and IMAX 70 mm. Principal photography began in late 2013 and took place in Alberta, Iceland, and Los Angeles. \n",
    "Interstellar uses extensive practical and miniature effects, and the company Double Negative created additional digital effects.\n",
    "\n",
    "Interstellar premiered in Los Angeles on October 26, 2014. In the United States, it was first released on film stock, expanding to venues using digital projectors. The film received generally positive reviews from critics and grossed over $677 million worldwide ($715 million after subsequent re-releases), making it the tenth-highest-grossing film of 2014. \n",
    "It has been praised by astronomers for its scientific accuracy and portrayal of theoretical astrophysics.[5][6][7] Interstellar was nominated for five awards at the 87th Academy Awards, winning Best Visual Effects, and received numerous other accolades.\"\"\""
   ]
  },
  {
   "cell_type": "code",
   "execution_count": 13,
   "id": "1fe9c8ae-d2d5-41d3-bb0b-af076bcd932c",
   "metadata": {},
   "outputs": [],
   "source": [
    "splitter = CharacterTextSplitter(\n",
    "    separator=\"\\n\",\n",
    "    chunk_size = 200,\n",
    "    chunk_overlap = 0\n",
    ")"
   ]
  },
  {
   "cell_type": "code",
   "execution_count": 14,
   "id": "80d4658d-4ad1-44bd-ab4e-3f211f9ebce0",
   "metadata": {},
   "outputs": [
    {
     "name": "stderr",
     "output_type": "stream",
     "text": [
      "Created a chunk of size 210, which is longer than the specified 200\n",
      "Created a chunk of size 208, which is longer than the specified 200\n",
      "Created a chunk of size 358, which is longer than the specified 200\n"
     ]
    }
   ],
   "source": [
    "chunks = splitter.split_text(text)"
   ]
  },
  {
   "cell_type": "code",
   "execution_count": 15,
   "id": "d3a1b577-a54d-4c61-90ae-80a6aa4000db",
   "metadata": {},
   "outputs": [
    {
     "data": {
      "text/plain": [
       "['Interstellar is a 2014 epic science fiction film co-written, directed, and produced by Christopher Nolan.',\n",
       " 'It stars Matthew McConaughey, Anne Hathaway, Jessica Chastain, Bill Irwin, Ellen Burstyn, Matt Damon, and Michael Caine.',\n",
       " 'Set in a dystopian future where humanity is embroiled in a catastrophic blight and famine, the film follows a group of astronauts who travel through a wormhole near Saturn in search of a new home for humankind.',\n",
       " 'Brothers Christopher and Jonathan Nolan wrote the screenplay, which had its origins in a script Jonathan developed in 2007 and was originally set to be directed by Steven Spielberg.',\n",
       " 'Kip Thorne, a Caltech theoretical physicist and 2017 Nobel laureate in Physics,[4] was an executive producer, acted as a scientific consultant, and wrote a tie-in book, The Science of Interstellar.',\n",
       " 'Cinematographer Hoyte van Hoytema shot it on 35 mm movie film in the Panavision anamorphic format and IMAX 70 mm. Principal photography began in late 2013 and took place in Alberta, Iceland, and Los Angeles.',\n",
       " 'Interstellar uses extensive practical and miniature effects, and the company Double Negative created additional digital effects.',\n",
       " 'Interstellar premiered in Los Angeles on October 26, 2014. In the United States, it was first released on film stock, expanding to venues using digital projectors. The film received generally positive reviews from critics and grossed over $677 million worldwide ($715 million after subsequent re-releases), making it the tenth-highest-grossing film of 2014.',\n",
       " 'It has been praised by astronomers for its scientific accuracy and portrayal of theoretical astrophysics.[5][6][7] Interstellar was nominated for five awards at the 87th Academy Awards, winning Best Visual Effects, and received numerous other accolades.']"
      ]
     },
     "execution_count": 15,
     "metadata": {},
     "output_type": "execute_result"
    }
   ],
   "source": [
    "chunks"
   ]
  },
  {
   "cell_type": "code",
   "execution_count": 18,
   "id": "991396eb-da94-4b97-af3f-f8f0d6376265",
   "metadata": {},
   "outputs": [
    {
     "name": "stdout",
     "output_type": "stream",
     "text": [
      "105\n",
      "120\n",
      "210\n",
      "181\n",
      "197\n",
      "207\n",
      "128\n",
      "357\n",
      "253\n"
     ]
    }
   ],
   "source": [
    "for chunk in chunks:\n",
    "    print(len(chunk))"
   ]
  },
  {
   "cell_type": "markdown",
   "id": "d14ce0bd-4ebd-4bc3-b4e8-bd58e3985be3",
   "metadata": {},
   "source": [
    "### Recursive Character TextSplitter (More optimized)"
   ]
  },
  {
   "cell_type": "code",
   "execution_count": 19,
   "id": "32411c38-07c1-47d7-af88-23f2249246ec",
   "metadata": {},
   "outputs": [],
   "source": [
    "from langchain_text_splitters import RecursiveCharacterTextSplitter"
   ]
  },
  {
   "cell_type": "code",
   "execution_count": 21,
   "id": "8b2681d7-f571-4841-8c13-3be6dffe9f95",
   "metadata": {},
   "outputs": [],
   "source": [
    "r_splitter = RecursiveCharacterTextSplitter(\n",
    "    separators=[\"\\n\\n\", \"\\n\", \" \"],\n",
    "    chunk_size = 200,\n",
    "    chunk_overlap = 0\n",
    ")"
   ]
  },
  {
   "cell_type": "code",
   "execution_count": 22,
   "id": "e5da7899-5b63-4fe8-b348-54a36275c21a",
   "metadata": {},
   "outputs": [],
   "source": [
    "chunks = r_splitter.split_text(text)"
   ]
  },
  {
   "cell_type": "code",
   "execution_count": 23,
   "id": "9a455d64-d055-4980-86a0-a69eaea9ed91",
   "metadata": {
    "scrolled": true
   },
   "outputs": [
    {
     "data": {
      "text/plain": [
       "['Interstellar is a 2014 epic science fiction film co-written, directed, and produced by Christopher Nolan.',\n",
       " 'It stars Matthew McConaughey, Anne Hathaway, Jessica Chastain, Bill Irwin, Ellen Burstyn, Matt Damon, and Michael Caine.',\n",
       " 'Set in a dystopian future where humanity is embroiled in a catastrophic blight and famine, the film follows a group of astronauts who travel through a wormhole near Saturn in search of a new home for',\n",
       " 'humankind.',\n",
       " 'Brothers Christopher and Jonathan Nolan wrote the screenplay, which had its origins in a script Jonathan developed in 2007 and was originally set to be directed by Steven Spielberg.',\n",
       " 'Kip Thorne, a Caltech theoretical physicist and 2017 Nobel laureate in Physics,[4] was an executive producer, acted as a scientific consultant, and wrote a tie-in book, The Science of Interstellar.',\n",
       " 'Cinematographer Hoyte van Hoytema shot it on 35 mm movie film in the Panavision anamorphic format and IMAX 70 mm. Principal photography began in late 2013 and took place in Alberta, Iceland, and Los',\n",
       " 'Angeles.',\n",
       " 'Interstellar uses extensive practical and miniature effects, and the company Double Negative created additional digital effects.',\n",
       " 'Interstellar premiered in Los Angeles on October 26, 2014. In the United States, it was first released on film stock, expanding to venues using digital projectors. The film received generally',\n",
       " 'positive reviews from critics and grossed over $677 million worldwide ($715 million after subsequent re-releases), making it the tenth-highest-grossing film of 2014.',\n",
       " 'It has been praised by astronomers for its scientific accuracy and portrayal of theoretical astrophysics.[5][6][7] Interstellar was nominated for five awards at the 87th Academy Awards, winning Best',\n",
       " 'Visual Effects, and received numerous other accolades.']"
      ]
     },
     "execution_count": 23,
     "metadata": {},
     "output_type": "execute_result"
    }
   ],
   "source": [
    "chunks"
   ]
  },
  {
   "cell_type": "code",
   "execution_count": 24,
   "id": "7190fd70-5ebf-49fb-9f9d-615b5842bc66",
   "metadata": {},
   "outputs": [
    {
     "name": "stdout",
     "output_type": "stream",
     "text": [
      "105\n",
      "120\n",
      "199\n",
      "10\n",
      "181\n",
      "197\n",
      "198\n",
      "8\n",
      "128\n",
      "191\n",
      "165\n",
      "198\n",
      "54\n"
     ]
    }
   ],
   "source": [
    "for chunk in chunks:\n",
    "    print(len(chunk))"
   ]
  },
  {
   "cell_type": "code",
   "execution_count": null,
   "id": "689278e8-77f0-42e8-b366-bda737f7210c",
   "metadata": {},
   "outputs": [],
   "source": []
  }
 ],
 "metadata": {
  "kernelspec": {
   "display_name": "Python 3 (ipykernel)",
   "language": "python",
   "name": "python3"
  },
  "language_info": {
   "codemirror_mode": {
    "name": "ipython",
    "version": 3
   },
   "file_extension": ".py",
   "mimetype": "text/x-python",
   "name": "python",
   "nbconvert_exporter": "python",
   "pygments_lexer": "ipython3",
   "version": "3.11.13"
  }
 },
 "nbformat": 4,
 "nbformat_minor": 5
}
